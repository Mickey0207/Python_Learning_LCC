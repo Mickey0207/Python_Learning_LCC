{
 "cells": [
  {
   "cell_type": "code",
   "execution_count": 7,
   "metadata": {},
   "outputs": [
    {
     "name": "stdout",
     "output_type": "stream",
     "text": [
      "請問您對那間店的評價為何??? 95\n",
      "人間美味\n"
     ]
    }
   ],
   "source": [
    "score=float(input('請問您對那間店的評價為何??? '))\n",
    "if score>90.1:\n",
    "    print('人間美味')\n",
    "elif score>80:\n",
    "    print('有開就去')\n",
    "elif score>70:\n",
    "    print('cp值不錯')    \n",
    "elif score>60:\n",
    "    print('加減吃')    \n",
    "else:\n",
    "    print('去要有勇氣')"
   ]
  },
  {
   "cell_type": "code",
   "execution_count": 14,
   "metadata": {},
   "outputs": [
    {
     "name": "stdout",
     "output_type": "stream",
     "text": [
      "Hello!!, My name is Lee, I'm 20 years old, live in Tainan\n",
      "您好，我姓Lee,今年20歲, 住在Tainan\n"
     ]
    }
   ],
   "source": [
    "name='Lee'\n",
    "age=20\n",
    "place='Tainan'\n",
    "\n",
    "print(f\"Hello!!, My name is {name}, I'm {age} years old, live in {place}\")\n",
    "print(f'您好，我姓{name},今年{age}歲, 住在{place}')"
   ]
  },
  {
   "cell_type": "code",
   "execution_count": 18,
   "metadata": {},
   "outputs": [
    {
     "name": "stdout",
     "output_type": "stream",
     "text": [
      "1\n",
      "2\n",
      "3\n",
      "4\n",
      "5\n"
     ]
    }
   ],
   "source": [
    "import random\n",
    "for i in range(1,6):\n",
    "    print(i)"
   ]
  },
  {
   "cell_type": "code",
   "execution_count": 24,
   "metadata": {},
   "outputs": [
    {
     "name": "stdout",
     "output_type": "stream",
     "text": [
      "x=: 8\n",
      "0\n",
      "1\n",
      "2\n",
      "3\n",
      "4\n",
      "5\n",
      "6\n",
      "7\n"
     ]
    }
   ],
   "source": [
    "import random  #呼叫隨機模組\n",
    "x=random.randrange(10)\n",
    "print('x=:',x)\n",
    "for i in range(x):\n",
    "    print(i)"
   ]
  },
  {
   "cell_type": "code",
   "execution_count": 32,
   "metadata": {},
   "outputs": [
    {
     "name": "stdout",
     "output_type": "stream",
     "text": [
      "第 1 年的本利和是:101500\n",
      "第 1 年的本利和是:101500\n",
      "第 2 年的本利和是:103022\n",
      "第 2 年的本利和是:103023\n",
      "第 3 年的本利和是:104568\n",
      "第 3 年的本利和是:104568\n",
      "第 4 年的本利和是:106136\n",
      "第 4 年的本利和是:106137\n",
      "第 5 年的本利和是:107728\n",
      "第 5 年的本利和是:107729\n",
      "第 6 年的本利和是:109344\n",
      "第 6 年的本利和是:109345\n",
      "第 7 年的本利和是:110984\n",
      "第 7 年的本利和是:110985\n"
     ]
    }
   ],
   "source": [
    "import math\n",
    "money=100000\n",
    "rate=0.015\n",
    "n=7\n",
    "\n",
    "for i in range(n):\n",
    "    money=money*(1+rate)\n",
    "    print(f'第 {i+1} 年的本利和是:{round(money)}')\n",
    "    print(f'第 {i+1} 年的本利和是:{math.ceil(money)}')\n",
    "\n"
   ]
  },
  {
   "cell_type": "code",
   "execution_count": 33,
   "metadata": {},
   "outputs": [
    {
     "name": "stdout",
     "output_type": "stream",
     "text": [
      "1x9=9\n",
      "2x9=18\n",
      "3x9=27\n",
      "4x9=36\n",
      "5x9=45\n",
      "6x9=54\n",
      "7x9=63\n",
      "8x9=72\n",
      "9x9=81\n"
     ]
    }
   ],
   "source": [
    "#1x9=9\n",
    "\n",
    "for i in range(1,10):\n",
    "    print(f'{i}x9={i*9}')"
   ]
  },
  {
   "cell_type": "code",
   "execution_count": 52,
   "metadata": {},
   "outputs": [
    {
     "name": "stdout",
     "output_type": "stream",
     "text": [
      "1x1= 1   1x2= 2   1x3= 3   1x4= 4   1x5= 5   1x6= 6   1x7= 7   1x8= 8   1x9= 9   \n",
      "2x1= 2   2x2= 4   2x3= 6   2x4= 8   2x5=10   2x6=12   2x7=14   2x8=16   2x9=18   \n",
      "3x1= 3   3x2= 6   3x3= 9   3x4=12   3x5=15   3x6=18   3x7=21   3x8=24   3x9=27   \n",
      "4x1= 4   4x2= 8   4x3=12   4x4=16   4x5=20   4x6=24   4x7=28   4x8=32   4x9=36   \n",
      "5x1= 5   5x2=10   5x3=15   5x4=20   5x5=25   5x6=30   5x7=35   5x8=40   5x9=45   \n",
      "6x1= 6   6x2=12   6x3=18   6x4=24   6x5=30   6x6=36   6x7=42   6x8=48   6x9=54   \n",
      "7x1= 7   7x2=14   7x3=21   7x4=28   7x5=35   7x6=42   7x7=49   7x8=56   7x9=63   \n",
      "8x1= 8   8x2=16   8x3=24   8x4=32   8x5=40   8x6=48   8x7=56   8x8=64   8x9=72   \n",
      "9x1= 9   9x2=18   9x3=27   9x4=36   9x5=45   9x6=54   9x7=63   9x8=72   9x9=81   \n"
     ]
    }
   ],
   "source": [
    "#1x9=9\n",
    "\n",
    "for i in range(1,10):\n",
    "    for j in range(1,10):\n",
    "        print(f'{i}x{j}={i*j:2}',end='   ')\n",
    "    print()"
   ]
  },
  {
   "cell_type": "code",
   "execution_count": null,
   "metadata": {},
   "outputs": [],
   "source": []
  }
 ],
 "metadata": {
  "kernelspec": {
   "display_name": "Python 3",
   "language": "python",
   "name": "python3"
  },
  "language_info": {
   "codemirror_mode": {
    "name": "ipython",
    "version": 3
   },
   "file_extension": ".py",
   "mimetype": "text/x-python",
   "name": "python",
   "nbconvert_exporter": "python",
   "pygments_lexer": "ipython3",
   "version": "3.6.4"
  }
 },
 "nbformat": 4,
 "nbformat_minor": 2
}
